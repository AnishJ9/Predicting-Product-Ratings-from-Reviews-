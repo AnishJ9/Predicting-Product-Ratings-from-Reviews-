{
 "cells": [
  {
   "cell_type": "code",
   "execution_count": null,
   "metadata": {},
   "outputs": [],
   "source": [
    "import pandas as pd\n",
    "import spotipy\n",
    "from spotipy.oauth2 import SpotifyOAuth\n",
    "from time import sleep\n",
    "\n",
    "auth_manager = SpotifyOAuth(client_id = cid, client_secret = secret,\n",
    "                            redirect_uri = redirect)\n",
    "\n",
    "sp = spotipy.Spotify(auth_manager= auth_manager)\n",
    "\n",
    "df = pd.read_csv('dataset.csv')\n",
    "\n",
    "popularity = []\n",
    "\n",
    "# chunking function\n",
    "chunker = lambda y, x: [y[i : i + x] for i in range(0, len(y), x)]\n",
    "\n",
    "# using the function\n",
    "uri_chunks = chunker(df['track_id'], 50)\n",
    "\n",
    "\n",
    "for i , chunk in enumerate(uri_chunks):\n",
    "    print(\"Starting chunk number {}\".format(i+1))\n",
    "    \n",
    "    results = sp.tracks(chunk)\n",
    "    print(\"Got Tracks\")\n",
    "    sleep(3)\n",
    "    \n",
    "    artists_id = []\n",
    "    for t in results['tracks']:\n",
    "        artists_id.append(t['artists'][0]['id'])\n",
    "    \n",
    "    results_artists = sp.artists(artists_id)\n",
    "    print(\"Got Artists\")\n",
    "    \n",
    "    for a in results_artists['artists']:\n",
    "        popularity.append(a['popularity'])\n",
    "    \n",
    "    print(\"Finished chunk number {} \\n\".format(i+1))\n",
    "    sleep(2)\n",
    "\n",
    "\n",
    "df.insert(loc=5,column = 'artist_popularity',value = popularity)\n",
    "\n",
    "df.to_csv('dataset.csv',index=True, index_label = '')\n"
   ]
  }
 ],
 "metadata": {
  "language_info": {
   "name": "python"
  }
 },
 "nbformat": 4,
 "nbformat_minor": 2
}
