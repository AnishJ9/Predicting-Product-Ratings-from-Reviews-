{
 "cells": [
  {
   "cell_type": "markdown",
   "metadata": {},
   "source": [
    "# Proposal of Modeling Approaches\n",
    "## Dataset Pre-Processing\n",
    "We begin by pre-processing the dataset using the following steps:\n",
    "- Combine similar genres of music into overarching categories\n",
    "- Encode categorical variables\n",
    "- Scale all features\n",
    "- Match all artists of a similar quality \n",
    "## Artist Statistics Prediction\n",
    "Our dataset gives identifying features for songs.  We need artist level features to find similar artists. We will test several methods.\n",
    "1) Arithmetic Mean averaging of all songs by an artist in our dataset.\n",
    "2) Time Series Weighted Averaging\n",
    "    - Baseline Models\n",
    "    - Rolling Average\n",
    "    - Exponential Smoothing\n",
    "3) Song Popularity Weighted Averaging\n",
    "## Classification \n",
    "Using our Artist data, we will:\n",
    "- run a K Nearest Neighbors Classifier\n",
    "- Sort by relative popularity of artists\n",
    "- Call Spotify API for arbitrary artist\n",
    "- Output list of compatible artists for concert lineup\n"
   ]
  }
 ],
 "metadata": {
  "language_info": {
   "name": "python"
  }
 },
 "nbformat": 4,
 "nbformat_minor": 2
}
