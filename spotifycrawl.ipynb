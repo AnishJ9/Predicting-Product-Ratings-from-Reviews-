{
 "cells": [
  {
   "cell_type": "code",
   "execution_count": 6,
   "metadata": {},
   "outputs": [
    {
     "name": "stdout",
     "output_type": "stream",
     "text": [
      "Data saved to spotify_tracks.csv\n"
     ]
    }
   ],
   "source": [
    "import spotipy\n",
    "from spotipy.oauth2 import SpotifyClientCredentials\n",
    "import pandas as pd\n",
    "\n",
    "# Initialize Spotify API credentials\n",
    "client_id = '50b05cd601fb450786893623c7faa8e3'\n",
    "client_secret = '76944756995946558edc222379e88eef'\n",
    "\n",
    "# Authenticate\n",
    "auth_manager = SpotifyClientCredentials(client_id=client_id, client_secret=client_secret)\n",
    "sp = spotipy.Spotify(auth_manager=auth_manager)\n",
    "\n",
    "# Function to get tracks from a popular playlist (e.g., Top 50 Global)\n",
    "def get_top_tracks_from_playlist(playlist_id, limit=50):\n",
    "    results = sp.playlist_tracks(playlist_id, limit=limit)\n",
    "    return results['items']\n",
    "\n",
    "# Fetch tracks from the \"Top 50 - Global\" playlist\n",
    "playlist_id = '37i9dQZEVXbMDoHDwVN2tF'  # Spotify ID for \"Top 50 - Global\" playlist\n",
    "top_tracks = get_top_tracks_from_playlist(playlist_id)\n",
    "\n",
    "# Extract track IDs and other required metadata\n",
    "track_data = []\n",
    "for item in top_tracks:\n",
    "    track = item['track']\n",
    "    track_info = {\n",
    "        'track_id': track['id'],\n",
    "        'artists': ', '.join([artist['name'] for artist in track['artists']]),\n",
    "        'album_name': track['album']['name'],\n",
    "        'track_name': track['name'],\n",
    "        'popularity': track['popularity'],\n",
    "        'duration_ms': track['duration_ms'],\n",
    "        'explicit': track['explicit'],\n",
    "        'track_genre': ', '.join(sp.artist(track['artists'][0]['id'])['genres']) if sp.artist(track['artists'][0]['id'])['genres'] else 'Unknown'\n",
    "    }\n",
    "    track_data.append(track_info)\n",
    "\n",
    "# Get audio features for the top tracks\n",
    "track_ids = [track['track_id'] for track in track_data]\n",
    "audio_features = sp.audio_features(track_ids)\n",
    "\n",
    "# Combine metadata and audio features\n",
    "for i, features in enumerate(audio_features):\n",
    "    if features:\n",
    "        track_data[i].update({\n",
    "            'danceability': features['danceability'],\n",
    "            'energy': features['energy'],\n",
    "            'key': features['key'],\n",
    "            'loudness': features['loudness'],\n",
    "            'mode': features['mode'],\n",
    "            'speechiness': features['speechiness'],\n",
    "            'acousticness': features['acousticness'],\n",
    "            'instrumentalness': features['instrumentalness'],\n",
    "            'liveness': features['liveness'],\n",
    "            'valence': features['valence'],\n",
    "            'tempo': features['tempo'],\n",
    "            'time_signature': features['time_signature']\n",
    "        })\n",
    "\n",
    "# Convert to DataFrame for better readability and manipulation\n",
    "df = pd.DataFrame(track_data)\n",
    "\n",
    "# Ensure the columns are in the specified order\n",
    "column_order = ['track_id', 'artists', 'album_name', 'track_name', 'popularity', 'duration_ms', 'explicit', 'danceability', 'energy', 'key', 'loudness', 'mode', 'speechiness', 'acousticness', 'instrumentalness', 'liveness', 'valence', 'tempo', 'time_signature', 'track_genre']\n",
    "df = df[column_order]\n",
    "\n",
    "# Save to CSV in the current working directory\n",
    "csv_file_path = 'spotify_tracks.csv'\n",
    "df.to_csv(csv_file_path, index=False)\n",
    "\n",
    "print(f\"Data saved to {csv_file_path}\")\n"
   ]
  },
  {
   "cell_type": "code",
   "execution_count": null,
   "metadata": {},
   "outputs": [],
   "source": []
  },
  {
   "cell_type": "code",
   "execution_count": null,
   "metadata": {},
   "outputs": [],
   "source": []
  }
 ],
 "metadata": {
  "interpreter": {
   "hash": "78be17a7a0b1b92df9db3875c8f2e8a53afdedf7e61f05b8c0c281c8a67ea3f9"
  },
  "kernelspec": {
   "display_name": "Python 3.11.9 ('erdos_may_2024')",
   "language": "python",
   "name": "python3"
  },
  "language_info": {
   "codemirror_mode": {
    "name": "ipython",
    "version": 3
   },
   "file_extension": ".py",
   "mimetype": "text/x-python",
   "name": "python",
   "nbconvert_exporter": "python",
   "pygments_lexer": "ipython3",
   "version": "3.11.9"
  },
  "orig_nbformat": 4
 },
 "nbformat": 4,
 "nbformat_minor": 2
}
